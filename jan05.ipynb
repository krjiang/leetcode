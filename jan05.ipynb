{
 "metadata": {
  "language_info": {
   "codemirror_mode": {
    "name": "ipython",
    "version": 3
   },
   "file_extension": ".py",
   "mimetype": "text/x-python",
   "name": "python",
   "nbconvert_exporter": "python",
   "pygments_lexer": "ipython3",
   "version": 3
  },
  "orig_nbformat": 2
 },
 "nbformat": 4,
 "nbformat_minor": 2,
 "cells": [
  {
   "cell_type": "code",
   "execution_count": null,
   "metadata": {},
   "outputs": [],
   "source": [
    "class Solution:\n",
    "    def deleteDuplicates(self, head: ListNode) -> ListNode:\n",
    "        def solve(head, dupe):\n",
    "            if head == None or head.next == None:\n",
    "                if dupe:\n",
    "                    return None\n",
    "                else:\n",
    "                    return head\n",
    "            if head.val == head.next.val:\n",
    "                head = solve(head.next, True)\n",
    "                return head\n",
    "            else:\n",
    "                if dupe:\n",
    "                    head = solve(head.next, False)\n",
    "                    return head\n",
    "                head.next = solve(head.next, False)\n",
    "                return head\n",
    "        return solve(head, False)"
   ]
  }
 ]
}