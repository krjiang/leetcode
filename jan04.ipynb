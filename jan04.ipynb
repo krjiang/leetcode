{
 "metadata": {
  "language_info": {
   "codemirror_mode": {
    "name": "ipython",
    "version": 3
   },
   "file_extension": ".py",
   "mimetype": "text/x-python",
   "name": "python",
   "nbconvert_exporter": "python",
   "pygments_lexer": "ipython3",
   "version": 3
  },
  "orig_nbformat": 2
 },
 "nbformat": 4,
 "nbformat_minor": 2,
 "cells": [
  {
   "cell_type": "code",
   "execution_count": null,
   "metadata": {},
   "outputs": [],
   "source": [
    "class Solution:\n",
    "    def mergeTwoLists(self, l1: ListNode, l2: ListNode) -> ListNode:\n",
    "        def sort(l1, l2, l1head):\n",
    "            if l2 == None:\n",
    "                return l1head\n",
    "            elif l1 == None:\n",
    "                return l2\n",
    "            \n",
    "            if l2.val < l1.val:\n",
    "                temp = l1\n",
    "                l1,l2 = l2,l2.next\n",
    "                l1.next = temp\n",
    "                l1head = l1\n",
    "                return sort(l1, l2, l1head)\n",
    "            elif l2.val >= l1.val and (l1.next == None or l2.val < l1.next.val):\n",
    "                temp = l2\n",
    "                temp.next,l2 = l1.next,l2.next\n",
    "                l1.next = temp\n",
    "            return sort(l1.next, l2, l1head)\n",
    "        \n",
    "        l1head = l1\n",
    "        return sort(l1, l2, l1head)"
   ]
  }
 ]
}