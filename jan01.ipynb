{
 "metadata": {
  "language_info": {
   "codemirror_mode": {
    "name": "ipython",
    "version": 3
   },
   "file_extension": ".py",
   "mimetype": "text/x-python",
   "name": "python",
   "nbconvert_exporter": "python",
   "pygments_lexer": "ipython3",
   "version": "3.8.5-final"
  },
  "orig_nbformat": 2,
  "kernelspec": {
   "name": "python3",
   "display_name": "Python 3",
   "language": "python"
  }
 },
 "nbformat": 4,
 "nbformat_minor": 2,
 "cells": [
  {
   "cell_type": "code",
   "execution_count": 2,
   "metadata": {},
   "outputs": [],
   "source": [
    "class Solution:\n",
    "    def canFormArray(self, arr: List[int], pieces: List[List[int]]) -> bool:\n",
    "        index = 0\n",
    "        puzzle = []\n",
    "        firsts = {}\n",
    "        for term in pieces:\n",
    "            firsts[term[0]] = term\n",
    "            \n",
    "        while index < len(arr):\n",
    "            target = arr[index]\n",
    "            if target not in firsts.keys():\n",
    "                return False\n",
    "            else:\n",
    "                puzzle.extend(firsts[target])\n",
    "                index += len(firsts[target])\n",
    "                if puzzle != arr[:index]:\n",
    "                    return False\n",
    "        \n",
    "        return True"
   ]
  }
 ]
}