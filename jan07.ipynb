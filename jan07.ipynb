{
 "metadata": {
  "language_info": {
   "codemirror_mode": {
    "name": "ipython",
    "version": 3
   },
   "file_extension": ".py",
   "mimetype": "text/x-python",
   "name": "python",
   "nbconvert_exporter": "python",
   "pygments_lexer": "ipython3",
   "version": "3.8.5-final"
  },
  "orig_nbformat": 2,
  "kernelspec": {
   "name": "python3",
   "display_name": "Python 3",
   "language": "python"
  }
 },
 "nbformat": 4,
 "nbformat_minor": 2,
 "cells": [
  {
   "cell_type": "code",
   "execution_count": 91,
   "metadata": {},
   "outputs": [],
   "source": [
    "#brute force approach\n",
    "class Solution:\n",
    "    def lengthOfLongestSubstring(self, s: str) -> int:\n",
    "        def naive(string):\n",
    "            longest = ''\n",
    "            substring = ''\n",
    "            for i in range(len(string)):\n",
    "                substring += string[i]\n",
    "                if i + 1 == len(string):\n",
    "                    break\n",
    "                if string[i + 1] in substring:\n",
    "                    if len(substring) > len(longest):\n",
    "                        longest = substring\n",
    "                    index = substring.index(string[i + 1])\n",
    "                    substring = substring[index + 1:]\n",
    "            if len(substring) > len(longest):\n",
    "                longest = substring\n",
    "            return len(longest)\n",
    "        return naive(s)"
   ]
  },
  {
   "cell_type": "code",
   "execution_count": 102,
   "metadata": {},
   "outputs": [],
   "source": [
    "def solve(string):\n",
    "    seen  = {}\n",
    "    longest = 0\n",
    "    for index in range(len(string)):\n",
    "        char = string[index]\n",
    "        if char not in seen.keys():\n",
    "            if string.count(char) > 1:\n",
    "                seen[char] = index\n",
    "            else:\n",
    "                gap = len(string) - index\n",
    "                if gap > longest:\n",
    "                    longest = gap\n",
    "        else:\n",
    "            gap = index - seen[char]\n",
    "            if gap > longest:\n",
    "                longest = gap\n",
    "                print(char)\n",
    "            seen[char] = index\n",
    "    return longest"
   ]
  },
  {
   "cell_type": "code",
   "execution_count": 103,
   "metadata": {},
   "outputs": [
    {
     "output_type": "stream",
     "name": "stdout",
     "text": [
      "20\na\na\nsolve: 15\nnaive: 13\n"
     ]
    }
   ],
   "source": [
    "string = 'abcdabccefghijkdlmna'\n",
    "print(len(string))\n",
    "print('solve:', solve(string))\n",
    "print('naive:', naive(string))"
   ]
  },
  {
   "cell_type": "code",
   "execution_count": 107,
   "metadata": {},
   "outputs": [],
   "source": [
    "#add two numbers problem\n",
    "class Solution:\n",
    "    def addTwoNumbers(self, l1: ListNode, l2: ListNode) -> ListNode:\n",
    "        def add(l1, l2, carry):\n",
    "            if l1 == None:\n",
    "                if carry:\n",
    "                    if l2:\n",
    "                        l2.val, carry = (carry + l2.val) % 10, (carry + l2.val) // 10\n",
    "                        l2.next = add(l1, l2.next, carry)\n",
    "                    else:\n",
    "                        l2 = ListNode(1)\n",
    "                return l2\n",
    "            if l2 == None:\n",
    "                if carry:\n",
    "                    if l1:\n",
    "                        l1.val, carry = (carry + l1.val) % 10, (carry + l1.val) // 10\n",
    "                        l1.next = add(l1.next, l2, carry)\n",
    "                    else:\n",
    "                        l1 = ListNode(1)\n",
    "                return l1\n",
    "\n",
    "            value = l1.val + l2.val + carry\n",
    "            carry = value // 10\n",
    "            l1.val = value % 10\n",
    "            l1.next = add(l1.next, l2.next, carry)\n",
    "            return l1\n",
    "        \n",
    "        return add(l1, l2, 0)"
   ]
  },
  {
   "cell_type": "code",
   "execution_count": null,
   "metadata": {},
   "outputs": [],
   "source": []
  }
 ]
}