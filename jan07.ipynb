{
 "metadata": {
  "language_info": {
   "codemirror_mode": {
    "name": "ipython",
    "version": 3
   },
   "file_extension": ".py",
   "mimetype": "text/x-python",
   "name": "python",
   "nbconvert_exporter": "python",
   "pygments_lexer": "ipython3",
   "version": "3.8.5-final"
  },
  "orig_nbformat": 2,
  "kernelspec": {
   "name": "python3",
   "display_name": "Python 3",
   "language": "python"
  }
 },
 "nbformat": 4,
 "nbformat_minor": 2,
 "cells": [
  {
   "cell_type": "code",
   "execution_count": 91,
   "metadata": {},
   "outputs": [],
   "source": [
    "#brute force approach\n",
    "class Solution:\n",
    "    def lengthOfLongestSubstring(self, s: str) -> int:\n",
    "        def naive(string):\n",
    "            longest = ''\n",
    "            substring = ''\n",
    "            for i in range(len(string)):\n",
    "                substring += string[i]\n",
    "                if i + 1 == len(string):\n",
    "                    break\n",
    "                if string[i + 1] in substring:\n",
    "                    if len(substring) > len(longest):\n",
    "                        longest = substring\n",
    "                    index = substring.index(string[i + 1])\n",
    "                    substring = substring[index + 1:]\n",
    "            if len(substring) > len(longest):\n",
    "                longest = substring\n",
    "            return len(longest)\n",
    "        return naive(s)"
   ]
  },
  {
   "cell_type": "code",
   "execution_count": 102,
   "metadata": {},
   "outputs": [],
   "source": [
    "def solve(string):\n",
    "    seen  = {}\n",
    "    longest = 0\n",
    "    for index in range(len(string)):\n",
    "        char = string[index]\n",
    "        if char not in seen.keys():\n",
    "            if string.count(char) > 1:\n",
    "                seen[char] = index\n",
    "            else:\n",
    "                gap = len(string) - index\n",
    "                if gap > longest:\n",
    "                    longest = gap\n",
    "        else:\n",
    "            gap = index - seen[char]\n",
    "            if gap > longest:\n",
    "                longest = gap\n",
    "                print(char)\n",
    "            seen[char] = index\n",
    "    return longest"
   ]
  },
  {
   "cell_type": "code",
   "execution_count": 103,
   "metadata": {},
   "outputs": [
    {
     "output_type": "stream",
     "name": "stdout",
     "text": [
      "20\na\na\nsolve: 15\nnaive: 13\n"
     ]
    }
   ],
   "source": [
    "string = 'abcdabccefghijkdlmna'\n",
    "print(len(string))\n",
    "print('solve:', solve(string))\n",
    "print('naive:', naive(string))"
   ]
  },
  {
   "cell_type": "code",
   "execution_count": null,
   "metadata": {},
   "outputs": [],
   "source": []
  }
 ]
}