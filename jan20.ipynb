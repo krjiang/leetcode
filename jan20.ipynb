{
 "metadata": {
  "language_info": {
   "codemirror_mode": {
    "name": "ipython",
    "version": 3
   },
   "file_extension": ".py",
   "mimetype": "text/x-python",
   "name": "python",
   "nbconvert_exporter": "python",
   "pygments_lexer": "ipython3",
   "version": "3.8.5-final"
  },
  "orig_nbformat": 2,
  "kernelspec": {
   "name": "python3",
   "display_name": "Python 3",
   "language": "python"
  }
 },
 "nbformat": 4,
 "nbformat_minor": 2,
 "cells": [
  {
   "cell_type": "code",
   "execution_count": 40,
   "metadata": {},
   "outputs": [],
   "source": [
    "def solve(s):\n",
    "    opened = {'(':')', '[':']', '{':'}'}\n",
    "    s = list(s)\n",
    "    stack = [s.pop(0)]\n",
    "    while s:\n",
    "        if stack and s[0] == opened.get(stack[-1], ''):\n",
    "            stack.pop()\n",
    "            s.pop(0)\n",
    "        else:\n",
    "            stack.append(s.pop(0))\n",
    "    if len(stack) == 0:\n",
    "        return True\n",
    "    else:\n",
    "        return False"
   ]
  },
  {
   "cell_type": "code",
   "execution_count": 44,
   "metadata": {},
   "outputs": [
    {
     "output_type": "execute_result",
     "data": {
      "text/plain": [
       "array([['', '']], dtype='<U1')"
      ]
     },
     "metadata": {},
     "execution_count": 44
    }
   ],
   "source": [
    "import numpy as np\n",
    "\n",
    "np.empty((1,2), dtype = str)\n",
    "-(-a // b) * len(s)"
   ]
  },
  {
   "cell_type": "code",
   "execution_count": 105,
   "metadata": {},
   "outputs": [],
   "source": [
    "import numpy as np\n",
    "\n",
    "def solve(s, numRows):\n",
    "    s = list(s)\n",
    "    temp = 2 * numRows - 2\n",
    "    numCol = -(-len(s) // temp) * (numRows - 1)\n",
    "    array = np.empty((numRows, numCol), dtype = str)\n",
    "    x = 0\n",
    "    y = 0\n",
    "    while s:\n",
    "        while s and y < numRows - 1:\n",
    "            array[y,x] = s.pop(0)\n",
    "            y += 1\n",
    "        while s and y > 0:\n",
    "            array[y,x] = s.pop(0)\n",
    "            x += 1\n",
    "            y -= 1\n",
    "    flattened = array.flatten()\n",
    "    string = ''\n",
    "    for i in flattened:\n",
    "        string += i\n",
    "    return string\n",
    "\n",
    "            "
   ]
  },
  {
   "cell_type": "code",
   "execution_count": 106,
   "metadata": {},
   "outputs": [
    {
     "output_type": "execute_result",
     "data": {
      "text/plain": [
       "'pinalsigyahrpi'"
      ]
     },
     "metadata": {},
     "execution_count": 106
    }
   ],
   "source": [
    "solve('paypalishiring', 4)"
   ]
  },
  {
   "cell_type": "code",
   "execution_count": null,
   "metadata": {},
   "outputs": [],
   "source": []
  }
 ]
}