{
 "metadata": {
  "language_info": {
   "codemirror_mode": {
    "name": "ipython",
    "version": 3
   },
   "file_extension": ".py",
   "mimetype": "text/x-python",
   "name": "python",
   "nbconvert_exporter": "python",
   "pygments_lexer": "ipython3",
   "version": "3.8.5-final"
  },
  "orig_nbformat": 2,
  "kernelspec": {
   "name": "python3",
   "display_name": "Python 3",
   "language": "python"
  }
 },
 "nbformat": 4,
 "nbformat_minor": 2,
 "cells": [
  {
   "cell_type": "code",
   "execution_count": 13,
   "metadata": {},
   "outputs": [],
   "source": [
    "def solve(nums1, nums2):\n",
    "    m, n = len(nums1), len(nums2)\n",
    "    half = (m + n) / 2\n",
    "    merged = []\n",
    "    while nums1 and nums2:\n",
    "        if len(merged) > half:\n",
    "            if half % 1 != 0:\n",
    "                return merged.pop()\n",
    "            else:\n",
    "                return (merged[-1] + merged[-2]) / 2\n",
    "        if nums1[0] < nums2[0]:\n",
    "            merged.append(nums1.pop(0))\n",
    "        else: merged.append(nums2.pop(0))\n",
    "    if nums1:\n",
    "        merged.extend(nums1)\n",
    "    elif nums2:\n",
    "        merged.extend(nums2)\n",
    "    \n",
    "    if half % 1 != 0:\n",
    "        return merged[int(half)]\n",
    "    else:\n",
    "        half = int(half)\n",
    "        return (merged[half-1] + merged[half]) / 2"
   ]
  },
  {
   "cell_type": "code",
   "execution_count": 16,
   "metadata": {},
   "outputs": [
    {
     "output_type": "stream",
     "name": "stdout",
     "text": [
      "3.5\n"
     ]
    }
   ],
   "source": [
    "class Solution:\n",
    "    def findKthLargest(self, nums: List[int], k: int) -> int:\n",
    "        nums.sort()\n",
    "        return nums[-k]"
   ]
  },
  {
   "cell_type": "code",
   "execution_count": null,
   "metadata": {},
   "outputs": [],
   "source": []
  }
 ]
}