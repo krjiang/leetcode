{
 "metadata": {
  "language_info": {
   "codemirror_mode": {
    "name": "ipython",
    "version": 3
   },
   "file_extension": ".py",
   "mimetype": "text/x-python",
   "name": "python",
   "nbconvert_exporter": "python",
   "pygments_lexer": "ipython3",
   "version": "3.8.5-final"
  },
  "orig_nbformat": 2,
  "kernelspec": {
   "name": "python3",
   "display_name": "Python 3",
   "language": "python"
  }
 },
 "nbformat": 4,
 "nbformat_minor": 2,
 "cells": [
  {
   "cell_type": "code",
   "execution_count": 24,
   "metadata": {},
   "outputs": [],
   "source": [
    "#brute force\n",
    "def naive(nums, k):\n",
    "    skip = []\n",
    "    total = 0\n",
    "    if k % 2 == 0:\n",
    "        i = k / 2\n",
    "        total += nums.count(i) // 2\n",
    "        skip.append(i)\n",
    "    for x in nums:\n",
    "        if x in skip:\n",
    "            continue\n",
    "        else:\n",
    "            pair = k - x\n",
    "            total += min(nums.count(x), nums.count(pair))\n",
    "            skip.append(x)\n",
    "            skip.append(pair)\n",
    "    return total\n",
    "        "
   ]
  },
  {
   "cell_type": "code",
   "execution_count": 25,
   "metadata": {},
   "outputs": [],
   "source": [
    "def solve(nums, k):\n",
    "    counter = {}\n",
    "    total = 0\n",
    "    for x in nums:\n",
    "        if x < k:\n",
    "            counter[x] = counter.get(x, 0) + 1\n",
    "    for x in counter.keys():\n",
    "        total += min(counter.get(x, 0), counter.get(k - x, 0))\n",
    "    return total // 2"
   ]
  },
  {
   "cell_type": "code",
   "execution_count": null,
   "metadata": {},
   "outputs": [],
   "source": []
  },
  {
   "cell_type": "code",
   "execution_count": 27,
   "metadata": {},
   "outputs": [
    {
     "output_type": "stream",
     "name": "stdout",
     "text": [
      "noice\n"
     ]
    }
   ],
   "source": [
    "nums = [1,2,3,4,5,1,2,3,5,7,54,3,2,1,1,6,8,9,90,543,534,21,1,23,6,43,3,1,31,3]\n",
    "k = 7\n",
    "if naive(nums, k) == solve(nums, k):\n",
    "    print('noice')"
   ]
  },
  {
   "cell_type": "code",
   "execution_count": null,
   "metadata": {},
   "outputs": [],
   "source": []
  }
 ]
}