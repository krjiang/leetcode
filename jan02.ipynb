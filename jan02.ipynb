{
 "metadata": {
  "language_info": {
   "codemirror_mode": {
    "name": "ipython",
    "version": 3
   },
   "file_extension": ".py",
   "mimetype": "text/x-python",
   "name": "python",
   "nbconvert_exporter": "python",
   "pygments_lexer": "ipython3",
   "version": 3
  },
  "orig_nbformat": 2
 },
 "nbformat": 4,
 "nbformat_minor": 2,
 "cells": [
  {
   "cell_type": "code",
   "execution_count": null,
   "metadata": {},
   "outputs": [],
   "source": [
    "class Solution:\n",
    "    def getTargetCopy(self, original: TreeNode, cloned: TreeNode, target: TreeNode) -> TreeNode:\n",
    "        def getTarget(node, value):\n",
    "            if node == None:\n",
    "                return None\n",
    "            elif node.val == value:\n",
    "                return node\n",
    "            else:\n",
    "                foundNode = getTarget(node.left, value)\n",
    "                if foundNode == None:\n",
    "                    foundNode = getTarget(node.right, value)\n",
    "                return foundNode\n",
    "        \n",
    "        return getTarget(cloned, target.val)"
   ]
  },
  {
   "cell_type": "code",
   "execution_count": null,
   "metadata": {},
   "outputs": [],
   "source": []
  }
 ]
}