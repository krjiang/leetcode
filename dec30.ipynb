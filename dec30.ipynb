{
 "metadata": {
  "language_info": {
   "codemirror_mode": {
    "name": "ipython",
    "version": 3
   },
   "file_extension": ".py",
   "mimetype": "text/x-python",
   "name": "python",
   "nbconvert_exporter": "python",
   "pygments_lexer": "ipython3",
   "version": "3.8.5-final"
  },
  "orig_nbformat": 2,
  "kernelspec": {
   "name": "python3",
   "display_name": "Python 3",
   "language": "python"
  }
 },
 "nbformat": 4,
 "nbformat_minor": 2,
 "cells": [
  {
   "cell_type": "code",
   "execution_count": 20,
   "metadata": {},
   "outputs": [],
   "source": [
    "class Solution:\r\n",
    "    def gameOfLife(self, board: List[List[int]]) -> None:\r\n",
    "        \"\"\"\r\n",
    "        Do not return anything, modify board in-place instead.\r\n",
    "        \"\"\"\r\n",
    "        copy = [row[:] for row in board]\r\n",
    "        for x in range(len(board)):\r\n",
    "            for y in range(len(board[x])):\r\n",
    "                neighbors = 0\r\n",
    "                num_rows = len(board)\r\n",
    "                num_columns = len(board[0])\r\n",
    "                for i in range(max(x-1, 0), min(x+2,num_rows)):\r\n",
    "                    for j in range(max(y-1, 0), min(y+2, num_columns)):\r\n",
    "                        if x != i or y != j:\r\n",
    "                            neighbors += copy[i][j]\r\n",
    "\r\n",
    "                if board[x][y] == 1:\r\n",
    "                    if neighbors < 2 or neighbors > 3:\r\n",
    "                        board[x][y] = 0\r\n",
    "                else:\r\n",
    "                    if neighbors == 3:\r\n",
    "                        board[x][y] = 1"
   ]
  },
  {
   "cell_type": "code",
   "execution_count": 26,
   "metadata": {},
   "outputs": [
    {
     "output_type": "execute_result",
     "data": {
      "text/plain": [
       "[0, 2, 3]"
      ]
     },
     "metadata": {},
     "execution_count": 26
    }
   ],
   "source": []
  }
 ]
}