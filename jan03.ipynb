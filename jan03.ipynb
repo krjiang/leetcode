{
 "metadata": {
  "language_info": {
   "codemirror_mode": {
    "name": "ipython",
    "version": 3
   },
   "file_extension": ".py",
   "mimetype": "text/x-python",
   "name": "python",
   "nbconvert_exporter": "python",
   "pygments_lexer": "ipython3",
   "version": "3.8.5-final"
  },
  "orig_nbformat": 2,
  "kernelspec": {
   "name": "python3",
   "display_name": "Python 3",
   "language": "python"
  }
 },
 "nbformat": 4,
 "nbformat_minor": 2,
 "cells": [
  {
   "cell_type": "code",
   "execution_count": 75,
   "metadata": {},
   "outputs": [],
   "source": [
    "class Solution:\n",
    "    def countArrangement(self, n: int) -> int:\n",
    "        def solve(current, remaining):\n",
    "            if len(current) == len(array) and (current[-1] % len(current) == 0 or len(current) % current[-1] == 0):\n",
    "                print(current)\n",
    "                return 1\n",
    "\n",
    "            if len(current) == 0:\n",
    "                num = 0\n",
    "                for i in remaining:\n",
    "                    curcopy = current.copy()\n",
    "                    curcopy.append(i)\n",
    "                    remcopy = remaining.copy()\n",
    "                    remcopy.remove(i)\n",
    "                    num += solve(curcopy, remcopy)\n",
    "                return num\n",
    "\n",
    "            if current[-1] % len(current) != 0 and len(current) % current[-1] != 0:\n",
    "                return 0\n",
    "            else:\n",
    "                num = 0\n",
    "                for i in remaining:\n",
    "                    curcopy = current.copy()\n",
    "                    curcopy.append(i)\n",
    "                    remcopy = remaining.copy()\n",
    "                    remcopy.remove(i)\n",
    "                    num += solve(curcopy, remcopy)\n",
    "                return num\n",
    "            \n",
    "        empty = []\n",
    "        array = [i for i in range(1, n+1)]\n",
    "        return solve(empty, array)"
   ]
  },
  {
   "cell_type": "code",
   "execution_count": 76,
   "metadata": {},
   "outputs": [
    {
     "output_type": "stream",
     "name": "stdout",
     "text": [
      "[1, 2, 3, 4]\n[1, 4, 3, 2]\n[2, 1, 3, 4]\n[2, 4, 3, 1]\n[3, 2, 1, 4]\n[3, 4, 1, 2]\n[4, 1, 3, 2]\n[4, 2, 3, 1]\n"
     ]
    },
    {
     "output_type": "execute_result",
     "data": {
      "text/plain": [
       "8"
      ]
     },
     "metadata": {},
     "execution_count": 76
    }
   ],
   "source": [
    "empty = []\n",
    "solve(empty, array)"
   ]
  },
  {
   "cell_type": "code",
   "execution_count": null,
   "metadata": {},
   "outputs": [],
   "source": []
  }
 ]
}