{
 "metadata": {
  "language_info": {
   "codemirror_mode": {
    "name": "ipython",
    "version": 3
   },
   "file_extension": ".py",
   "mimetype": "text/x-python",
   "name": "python",
   "nbconvert_exporter": "python",
   "pygments_lexer": "ipython3",
   "version": "3.8.5-final"
  },
  "orig_nbformat": 2,
  "kernelspec": {
   "name": "python3",
   "display_name": "Python 3",
   "language": "python"
  }
 },
 "nbformat": 4,
 "nbformat_minor": 2,
 "cells": [
  {
   "cell_type": "code",
   "execution_count": 4,
   "metadata": {},
   "outputs": [
    {
     "output_type": "execute_result",
     "data": {
      "text/plain": [
       "0"
      ]
     },
     "metadata": {},
     "execution_count": 4
    }
   ],
   "source": [
    "class Solution:\n",
    "    def findKthPositive(self, arr: List[int], k: int) -> int:\n",
    "        if len(arr) > 10:\n",
    "            count = -(-len(arr) // 10)\n",
    "            value = 9\n",
    "        else:\n",
    "            count = len(arr)\n",
    "            value = 1\n",
    "        index = 0\n",
    "        missing = 0\n",
    "        for i in range(value):\n",
    "            newMissing = arr[index + count - 1] - index - count - missing\n",
    "            print(missing, newMissing, arr[index])\n",
    "            if missing + newMissing >= k:\n",
    "                for j in range(count):\n",
    "                    gap = arr[index + j] - index - j - 1\n",
    "                    if gap >= k:\n",
    "                        return arr[index + j] - gap + k - 1\n",
    "            index += count\n",
    "            missing += newMissing\n",
    "        missing = arr[len(arr) - 1] - len(arr)\n",
    "        return arr[len(arr) - 1] + k - missing"
   ]
  }
 ]
}