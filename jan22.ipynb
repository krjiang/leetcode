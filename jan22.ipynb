{
 "metadata": {
  "language_info": {
   "codemirror_mode": {
    "name": "ipython",
    "version": 3
   },
   "file_extension": ".py",
   "mimetype": "text/x-python",
   "name": "python",
   "nbconvert_exporter": "python",
   "pygments_lexer": "ipython3",
   "version": "3.8.5-final"
  },
  "orig_nbformat": 2,
  "kernelspec": {
   "name": "python3",
   "display_name": "Python 3",
   "language": "python"
  }
 },
 "nbformat": 4,
 "nbformat_minor": 2,
 "cells": [
  {
   "cell_type": "code",
   "execution_count": 20,
   "metadata": {},
   "outputs": [],
   "source": [
    "def solve(word1, word2):\n",
    "    set1 = ''.join(set(word1))\n",
    "    set2 = ''.join(set(word2))\n",
    "    count1 = []\n",
    "    count2 = []\n",
    "    if set1 == set2:\n",
    "        for i in set1:\n",
    "            count1.append(word1.count(i))\n",
    "            count2.append(word2.count(i))\n",
    "        if sorted(count1) == sorted(count2):\n",
    "            return True\n",
    "    return False\n"
   ]
  },
  {
   "cell_type": "code",
   "execution_count": 37,
   "metadata": {},
   "outputs": [
    {
     "output_type": "execute_result",
     "data": {
      "text/plain": [
       "True"
      ]
     },
     "metadata": {},
     "execution_count": 37
    }
   ],
   "source": [
    "word1 = \"svotbsgqiqmeqjwdqqtkucrzqphqxqtqqlyfan\"\n",
    "word2 = \"aapyhufaaaalkqsvtjnaaoewxkrgsbsazadmci\"S\n",
    "solve(word1, word2)"
   ]
  },
  {
   "cell_type": "code",
   "execution_count": null,
   "metadata": {},
   "outputs": [],
   "source": []
  }
 ]
}