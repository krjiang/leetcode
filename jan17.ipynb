{
 "metadata": {
  "language_info": {
   "codemirror_mode": {
    "name": "ipython",
    "version": 3
   },
   "file_extension": ".py",
   "mimetype": "text/x-python",
   "name": "python",
   "nbconvert_exporter": "python",
   "pygments_lexer": "ipython3",
   "version": "3.8.5-final"
  },
  "orig_nbformat": 2,
  "kernelspec": {
   "name": "python3",
   "display_name": "Python 3",
   "language": "python"
  }
 },
 "nbformat": 4,
 "nbformat_minor": 2,
 "cells": [
  {
   "cell_type": "code",
   "execution_count": 26,
   "metadata": {},
   "outputs": [
    {
     "output_type": "execute_result",
     "data": {
      "text/plain": [
       "70"
      ]
     },
     "metadata": {},
     "execution_count": 26
    }
   ],
   "source": [
    "#brute force solution\n",
    "vowels = ['a','e','i','o','u']\n",
    "def naive(n, last_char):\n",
    "    if n <= 1:\n",
    "        return 1\n",
    "    total = 0\n",
    "    index = vowels.index(last_char)\n",
    "    for i in vowels[:index + 1]:\n",
    "        total += solve(n-1,i)\n",
    "    return total\n",
    "\n",
    "total = 0\n",
    "for i in vowels:\n",
    "    total += naive(4, i)\n",
    "total"
   ]
  },
  {
   "cell_type": "code",
   "execution_count": 33,
   "metadata": {},
   "outputs": [],
   "source": [
    "def solve(n):\n",
    "    values = [1,1,1,1,1]\n",
    "    for i in range(n - 1):\n",
    "        for i in range(5):\n",
    "            values[i] = sum(values[i:])\n",
    "    return sum(values)"
   ]
  },
  {
   "cell_type": "code",
   "execution_count": 36,
   "metadata": {},
   "outputs": [
    {
     "output_type": "execute_result",
     "data": {
      "text/plain": [
       "35"
      ]
     },
     "metadata": {},
     "execution_count": 36
    }
   ],
   "source": [
    "solve(3)"
   ]
  },
  {
   "cell_type": "code",
   "execution_count": null,
   "metadata": {},
   "outputs": [],
   "source": []
  }
 ]
}