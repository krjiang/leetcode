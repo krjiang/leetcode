{
 "metadata": {
  "language_info": {
   "codemirror_mode": {
    "name": "ipython",
    "version": 3
   },
   "file_extension": ".py",
   "mimetype": "text/x-python",
   "name": "python",
   "nbconvert_exporter": "python",
   "pygments_lexer": "ipython3",
   "version": "3.8.5-final"
  },
  "orig_nbformat": 2,
  "kernelspec": {
   "name": "python3",
   "display_name": "Python 3",
   "language": "python"
  }
 },
 "nbformat": 4,
 "nbformat_minor": 2,
 "cells": [
  {
   "cell_type": "code",
   "execution_count": null,
   "metadata": {},
   "outputs": [],
   "source": [
    "#brute force solution\n",
    "vowels = ['a','e','i','o','u']\n",
    "def naive(n, last_char):\n",
    "    if n <= 1:\n",
    "        return 1\n",
    "    total = 0\n",
    "    index = vowels.index(last_char)\n",
    "    for i in vowels[:index + 1]:\n",
    "        total += solve(n-1,i)\n",
    "    return total\n",
    "\n",
    "total = 0\n",
    "for i in vowels:\n",
    "    total += naive(4, i)\n",
    "total"
   ]
  },
  {
   "cell_type": "code",
   "execution_count": null,
   "metadata": {},
   "outputs": [],
   "source": [
    "def solve(n):\n",
    "    values = [1,1,1,1,1]\n",
    "    for i in range(n - 1):\n",
    "        for i in range(5):\n",
    "            values[i] = sum(values[i:])\n",
    "    return sum(values)"
   ]
  },
  {
   "cell_type": "code",
   "execution_count": 19,
   "metadata": {},
   "outputs": [],
   "source": [
    "#longest palindrome\n",
    "def findLong(s, left, right):\n",
    "    while left > 0 and right < len(s) - 1 and s[left-1] == s[right+1]:\n",
    "        left -= 1\n",
    "        right += 1\n",
    "    palindrome = s[left:right+1]\n",
    "    return palindrome\n",
    "\n",
    "def solve(s):\n",
    "    if len(s) < 2: return s[0]\n",
    "    else:\n",
    "        longest = ''\n",
    "        i = 0\n",
    "        while i < len(s) - 1:\n",
    "            if s[i] == s[i+1]:\n",
    "                palindrome = findLong(s, i, i+1)\n",
    "                if len(palindrome) > len(longest):\n",
    "                    longest = palindrome\n",
    "            if i + 2 < len(s) and s[i] == s[i+2]:\n",
    "                palindrome = findLong(s, i, i+2)\n",
    "                if len(palindrome) > len(longest):\n",
    "                    longest = palindrome\n",
    "            i += 1\n",
    "        if len(longest) == 0:\n",
    "            return s[0]\n",
    "        else: return longest"
   ]
  },
  {
   "cell_type": "code",
   "execution_count": 24,
   "metadata": {},
   "outputs": [
    {
     "output_type": "stream",
     "name": "stdout",
     "text": [
      "bab 0.0\n"
     ]
    }
   ],
   "source": [
    "import time\n",
    "s = 'babad'\n",
    "start = time.time()\n",
    "result = solve(s)\n",
    "end = time.time()\n",
    "print(result, end - start)"
   ]
  },
  {
   "cell_type": "code",
   "execution_count": null,
   "metadata": {},
   "outputs": [],
   "source": []
  }
 ]
}