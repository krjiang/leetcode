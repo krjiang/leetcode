{
 "metadata": {
  "language_info": {
   "codemirror_mode": {
    "name": "ipython",
    "version": 3
   },
   "file_extension": ".py",
   "mimetype": "text/x-python",
   "name": "python",
   "nbconvert_exporter": "python",
   "pygments_lexer": "ipython3",
   "version": 3
  },
  "orig_nbformat": 2
 },
 "nbformat": 4,
 "nbformat_minor": 2,
 "cells": [
  {
   "cell_type": "code",
   "execution_count": null,
   "metadata": {},
   "outputs": [],
   "source": [
    "class Solution:\n",
    "    def getMaximumGenerated(self, n: int) -> int:\n",
    "        if n == 0:\n",
    "            return 0\n",
    "        elif n == 1:\n",
    "            return 1\n",
    "        \n",
    "        array = [0,1]\n",
    "        for i in range(2, n + 1):\n",
    "            if i % 2 == 0:\n",
    "                i = int(i / 2)\n",
    "                array.append(array[i])\n",
    "            else:\n",
    "                i = int(i // 2)\n",
    "                array.append(array[i] + array[i + 1])\n",
    "        return max(array)"
   ]
  }
 ]
}